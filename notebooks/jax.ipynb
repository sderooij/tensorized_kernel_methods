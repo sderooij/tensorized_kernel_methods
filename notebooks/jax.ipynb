{
 "cells": [
  {
   "cell_type": "code",
   "execution_count": 39,
   "metadata": {},
   "outputs": [
    {
     "name": "stdout",
     "output_type": "stream",
     "text": [
      "The autoreload extension is already loaded. To reload it, use:\n",
      "  %reload_ext autoreload\n"
     ]
    }
   ],
   "source": [
    "%load_ext autoreload\n",
    "%autoreload 2"
   ]
  },
  {
   "cell_type": "code",
   "execution_count": 40,
   "metadata": {},
   "outputs": [],
   "source": [
    "from jax import numpy as jnp"
   ]
  },
  {
   "cell_type": "code",
   "execution_count": 41,
   "metadata": {},
   "outputs": [],
   "source": [
    "from jax import random\n",
    "key = random.PRNGKey(42)\n",
    "\n",
    "D = 2\n",
    "M = 8\n",
    "R = 10\n",
    "W = random.normal(key, shape=(D,M,R))"
   ]
  },
  {
   "cell_type": "code",
   "execution_count": 42,
   "metadata": {},
   "outputs": [
    {
     "data": {
      "text/plain": [
       "(8, 10)"
      ]
     },
     "execution_count": 42,
     "metadata": {},
     "output_type": "execute_result"
    }
   ],
   "source": [
    "W[0].shape"
   ]
  },
  {
   "cell_type": "code",
   "execution_count": 43,
   "metadata": {},
   "outputs": [
    {
     "name": "stdout",
     "output_type": "stream",
     "text": [
      "419 µs ± 2.48 µs per loop (mean ± std. dev. of 7 runs, 1,000 loops each)\n"
     ]
    }
   ],
   "source": [
    "%timeit W[0] @ W[0].T"
   ]
  },
  {
   "cell_type": "code",
   "execution_count": 44,
   "metadata": {},
   "outputs": [
    {
     "name": "stdout",
     "output_type": "stream",
     "text": [
      "552 µs ± 11.2 µs per loop (mean ± std. dev. of 7 runs, 1,000 loops each)\n"
     ]
    }
   ],
   "source": [
    "%timeit jnp.dot(W[0], W[0].T)"
   ]
  },
  {
   "cell_type": "code",
   "execution_count": 45,
   "metadata": {},
   "outputs": [],
   "source": [
    "reg = jnp.ones((R,R))\n",
    "\n",
    "W = random.normal(key, shape=(D,M,R))\n",
    "\n",
    "reg *= jnp.dot(W[1].T, W[1])"
   ]
  },
  {
   "cell_type": "code",
   "execution_count": 46,
   "metadata": {},
   "outputs": [
    {
     "data": {
      "text/plain": [
       "Array([[10.47288   ,  2.1634696 ,  1.8259413 ,  2.9988558 , -4.0781074 ,\n",
       "        -1.8218789 , -0.7573269 ,  0.42361394, -0.7675856 ,  2.695262  ],\n",
       "       [ 2.1634696 ,  4.092049  ,  2.090363  ,  0.49094906, -4.6681066 ,\n",
       "        -1.7279721 , -0.7065751 , -1.2958506 , -2.7669685 , -1.8912005 ],\n",
       "       [ 1.8259413 ,  2.090363  ,  7.2151246 , -2.1220863 ,  2.9141078 ,\n",
       "        -3.8662224 ,  1.044639  , -0.3260081 , -5.878887  ,  1.1603943 ],\n",
       "       [ 2.9988558 ,  0.49094906, -2.1220863 ,  7.8024697 , -3.1010823 ,\n",
       "        -2.6626344 , -2.8245208 ,  0.47037813, -1.0786488 ,  2.2232292 ],\n",
       "       [-4.0781074 , -4.6681066 ,  2.9141078 , -3.1010823 , 17.220644  ,\n",
       "         1.6805526 ,  3.5457447 ,  2.077627  ,  0.67723554,  4.780664  ],\n",
       "       [-1.8218789 , -1.7279721 , -3.8662224 , -2.6626344 ,  1.6805526 ,\n",
       "         6.0490055 , -0.11766616, -0.35652265,  5.9354253 , -2.1349566 ],\n",
       "       [-0.7573269 , -0.7065751 ,  1.044639  , -2.8245208 ,  3.5457447 ,\n",
       "        -0.11766616, 12.093737  ,  1.1507288 , -1.6865442 ,  6.3376555 ],\n",
       "       [ 0.42361394, -1.2958506 , -0.3260081 ,  0.47037813,  2.077627  ,\n",
       "        -0.35652265,  1.1507288 ,  1.0391775 ,  0.5057485 ,  1.9722064 ],\n",
       "       [-0.7675856 , -2.7669685 , -5.878887  , -1.0786488 ,  0.67723554,\n",
       "         5.9354253 , -1.6865442 ,  0.5057485 ,  7.749334  , -1.9057153 ],\n",
       "       [ 2.695262  , -1.8912005 ,  1.1603943 ,  2.2232292 ,  4.780664  ,\n",
       "        -2.1349566 ,  6.3376555 ,  1.9722064 , -1.9057153 ,  7.609132  ]],      dtype=float32)"
      ]
     },
     "execution_count": 46,
     "metadata": {},
     "output_type": "execute_result"
    }
   ],
   "source": [
    "reg "
   ]
  },
  {
   "cell_type": "code",
   "execution_count": 47,
   "metadata": {},
   "outputs": [],
   "source": [
    "from tkm.kron import dotkron\n",
    "from jax import jit\n",
    "\n",
    "N,D = 5300, 2\n",
    "M = 8\n",
    "R = 10\n",
    "\n",
    "Mati = random.normal(key,(N,M))\n",
    "Matd = random.normal(key,(N,R))\n"
   ]
  },
  {
   "cell_type": "code",
   "execution_count": 48,
   "metadata": {},
   "outputs": [],
   "source": [
    "# %time C = dotkron(Mati,Matd)"
   ]
  },
  {
   "cell_type": "code",
   "execution_count": 49,
   "metadata": {},
   "outputs": [],
   "source": [
    "from jax import jit \n",
    "\n",
    "dotkron_compiled = jit(dotkron)"
   ]
  },
  {
   "cell_type": "code",
   "execution_count": 50,
   "metadata": {},
   "outputs": [],
   "source": [
    "# %time dotkron_compiled(Mati,Matd)"
   ]
  },
  {
   "cell_type": "code",
   "execution_count": 51,
   "metadata": {},
   "outputs": [],
   "source": [
    "from tkm.kron import vmap_dotkron"
   ]
  },
  {
   "cell_type": "code",
   "execution_count": 52,
   "metadata": {},
   "outputs": [
    {
     "name": "stdout",
     "output_type": "stream",
     "text": [
      "CPU times: total: 8.5 s\n",
      "Wall time: 8.62 s\n"
     ]
    }
   ],
   "source": [
    "%time c = dotkron(Mati,Matd)"
   ]
  },
  {
   "cell_type": "code",
   "execution_count": 53,
   "metadata": {},
   "outputs": [
    {
     "name": "stdout",
     "output_type": "stream",
     "text": [
      "549 µs ± 26.1 µs per loop (mean ± std. dev. of 7 runs, 1,000 loops each)\n"
     ]
    }
   ],
   "source": [
    "%timeit C = vmap_dotkron(Mati,Matd)"
   ]
  },
  {
   "cell_type": "code",
   "execution_count": 54,
   "metadata": {},
   "outputs": [
    {
     "data": {
      "text/plain": [
       "(5300, 80)"
      ]
     },
     "execution_count": 54,
     "metadata": {},
     "output_type": "execute_result"
    }
   ],
   "source": [
    "C.shape"
   ]
  },
  {
   "cell_type": "code",
   "execution_count": 55,
   "metadata": {},
   "outputs": [],
   "source": [
    "vmap_dotkron_compiled = jit(vmap_dotkron)\n"
   ]
  },
  {
   "cell_type": "code",
   "execution_count": 56,
   "metadata": {},
   "outputs": [
    {
     "name": "stdout",
     "output_type": "stream",
     "text": [
      "545 µs ± 26 µs per loop (mean ± std. dev. of 7 runs, 1,000 loops each)\n"
     ]
    }
   ],
   "source": [
    "%timeit C_ = vmap_dotkron_compiled(Mati,Matd)"
   ]
  },
  {
   "cell_type": "code",
   "execution_count": 57,
   "metadata": {},
   "outputs": [
    {
     "data": {
      "text/plain": [
       "Array([[ True,  True,  True, ...,  True,  True,  True],\n",
       "       [ True,  True,  True, ...,  True,  True,  True],\n",
       "       [ True,  True,  True, ...,  True,  True,  True],\n",
       "       ...,\n",
       "       [ True,  True,  True, ...,  True,  True,  True],\n",
       "       [ True,  True,  True, ...,  True,  True,  True],\n",
       "       [ True,  True,  True, ...,  True,  True,  True]], dtype=bool)"
      ]
     },
     "execution_count": 57,
     "metadata": {},
     "output_type": "execute_result"
    }
   ],
   "source": [
    "jnp.equal(c,C)"
   ]
  },
  {
   "cell_type": "code",
   "execution_count": 58,
   "metadata": {},
   "outputs": [
    {
     "data": {
      "text/plain": [
       "Array(1., dtype=float32)"
      ]
     },
     "execution_count": 58,
     "metadata": {},
     "output_type": "execute_result"
    }
   ],
   "source": [
    "jnp.equal(c,C_).sum()/C_.size"
   ]
  },
  {
   "cell_type": "code",
   "execution_count": 59,
   "metadata": {},
   "outputs": [],
   "source": [
    "x = random.normal(key, (5300,2))"
   ]
  },
  {
   "cell_type": "code",
   "execution_count": 60,
   "metadata": {},
   "outputs": [
    {
     "data": {
      "text/plain": [
       "(5300, 8)"
      ]
     },
     "execution_count": 60,
     "metadata": {},
     "output_type": "execute_result"
    }
   ],
   "source": [
    "jnp.power(x[:,0, None], jnp.arange(M)).shape"
   ]
  },
  {
   "cell_type": "code",
   "execution_count": 61,
   "metadata": {},
   "outputs": [],
   "source": [
    "from tkm.features import polynomial\n",
    "from functools import partial\n",
    "polynomial_compiled = jit(partial(polynomial, M=M))"
   ]
  },
  {
   "cell_type": "code",
   "execution_count": 62,
   "metadata": {},
   "outputs": [
    {
     "name": "stdout",
     "output_type": "stream",
     "text": [
      "1.11 ms ± 100 µs per loop (mean ± std. dev. of 7 runs, 1,000 loops each)\n",
      "684 µs ± 39 µs per loop (mean ± std. dev. of 7 runs, 1,000 loops each)\n"
     ]
    }
   ],
   "source": [
    "%timeit polynomial(x[:,0],M)\n",
    "%timeit polynomial_compiled(x[:,0])"
   ]
  },
  {
   "cell_type": "code",
   "execution_count": 63,
   "metadata": {},
   "outputs": [],
   "source": [
    "from tkm.features import polynomial_\n",
    "polynomial_compiled_ = jit(polynomial_)"
   ]
  },
  {
   "cell_type": "code",
   "execution_count": 64,
   "metadata": {},
   "outputs": [
    {
     "name": "stdout",
     "output_type": "stream",
     "text": [
      "1.02 ms ± 8.64 µs per loop (mean ± std. dev. of 7 runs, 1,000 loops each)\n",
      "789 µs ± 2.14 µs per loop (mean ± std. dev. of 7 runs, 1,000 loops each)\n"
     ]
    }
   ],
   "source": [
    "%timeit polynomial_(x[:,0],jnp.arange(M))\n",
    "%timeit polynomial_compiled_(x[:,0],jnp.arange(M))"
   ]
  },
  {
   "cell_type": "code",
   "execution_count": 65,
   "metadata": {},
   "outputs": [
    {
     "name": "stdout",
     "output_type": "stream",
     "text": [
      "2.16 ms ± 155 µs per loop (mean ± std. dev. of 7 runs, 100 loops each)\n"
     ]
    }
   ],
   "source": [
    "from tkm.features import polynomial_vmap\n",
    "\n",
    "%timeit pv = polynomial_vmap(x[:,0],jnp.arange(M))"
   ]
  },
  {
   "cell_type": "code",
   "execution_count": 66,
   "metadata": {},
   "outputs": [
    {
     "data": {
      "text/plain": [
       "(5300, 8)"
      ]
     },
     "execution_count": 66,
     "metadata": {},
     "output_type": "execute_result"
    }
   ],
   "source": [
    "pv = polynomial_vmap(x[:,0],jnp.arange(M))\n",
    "pv.shape"
   ]
  },
  {
   "cell_type": "code",
   "execution_count": 67,
   "metadata": {},
   "outputs": [],
   "source": [
    "polynomial_vmap_compiled = jit(partial(polynomial_vmap,rangeM=jnp.arange(M)))"
   ]
  },
  {
   "cell_type": "code",
   "execution_count": 68,
   "metadata": {},
   "outputs": [
    {
     "name": "stdout",
     "output_type": "stream",
     "text": [
      "643 µs ± 19.6 µs per loop (mean ± std. dev. of 7 runs, 1,000 loops each)\n"
     ]
    }
   ],
   "source": [
    "%timeit polynomial_vmap_compiled(x[:,0])"
   ]
  },
  {
   "cell_type": "code",
   "execution_count": 79,
   "metadata": {},
   "outputs": [],
   "source": [
    "from tkm.features import compile_feature_map\n",
    "\n",
    "poly = compile_feature_map(feature_map=polynomial,M=M)"
   ]
  },
  {
   "cell_type": "code",
   "execution_count": 80,
   "metadata": {},
   "outputs": [
    {
     "name": "stdout",
     "output_type": "stream",
     "text": [
      "831 µs ± 26.1 µs per loop (mean ± std. dev. of 7 runs, 1,000 loops each)\n"
     ]
    }
   ],
   "source": [
    "%timeit poly(x[:,0])"
   ]
  },
  {
   "cell_type": "markdown",
   "metadata": {},
   "source": [
    "# predict"
   ]
  },
  {
   "cell_type": "code",
   "execution_count": 74,
   "metadata": {},
   "outputs": [
    {
     "data": {
      "text/plain": [
       "(5300,)"
      ]
     },
     "execution_count": 74,
     "metadata": {},
     "output_type": "execute_result"
    }
   ],
   "source": [
    "X = x\n",
    "N, D = X.shape\n",
    "M = W[0].shape[0]\n",
    "score = jnp.ones((N,1))\n",
    "\n",
    "for d in range(D): #TODO JAX vmap?\n",
    "    score *= jnp.dot(\n",
    "        polynomial(X[:,d],M) , \n",
    "        W[d]\n",
    "    )\n",
    "\n",
    "score = jnp.sum(score, 1)\n",
    "score.shape"
   ]
  },
  {
   "cell_type": "code",
   "execution_count": 76,
   "metadata": {},
   "outputs": [
    {
     "data": {
      "text/plain": [
       "(2, 5300, 10)"
      ]
     },
     "execution_count": 76,
     "metadata": {},
     "output_type": "execute_result"
    }
   ],
   "source": [
    "from jax import vmap\n",
    "from tkm.features import compile_feature_map\n",
    "\n",
    "poly = compile_feature_map(feature_map=polynomial, M=8)\n",
    "\n",
    "s = vmap(lambda x,y :jnp.dot(poly(x),y), (1,0),)(X, W)\n",
    "s.shape"
   ]
  },
  {
   "cell_type": "code",
   "execution_count": null,
   "metadata": {},
   "outputs": [
    {
     "data": {
      "text/plain": [
       "(2, 8, 10)"
      ]
     },
     "execution_count": 78,
     "metadata": {},
     "output_type": "execute_result"
    }
   ],
   "source": [
    "W.shape"
   ]
  },
  {
   "cell_type": "code",
   "execution_count": 81,
   "metadata": {},
   "outputs": [],
   "source": [
    "sc = s.prod(0)"
   ]
  },
  {
   "cell_type": "code",
   "execution_count": 82,
   "metadata": {},
   "outputs": [],
   "source": [
    "sco = sc.sum(1)"
   ]
  },
  {
   "cell_type": "code",
   "execution_count": 83,
   "metadata": {},
   "outputs": [
    {
     "data": {
      "text/plain": [
       "Array(1., dtype=float32)"
      ]
     },
     "execution_count": 83,
     "metadata": {},
     "output_type": "execute_result"
    }
   ],
   "source": [
    "jnp.equal(score,sco).sum() / score.size"
   ]
  },
  {
   "cell_type": "code",
   "execution_count": null,
   "metadata": {},
   "outputs": [],
   "source": [
    "# from tkm.model import predict"
   ]
  }
 ],
 "metadata": {
  "interpreter": {
   "hash": "52117102878ae16c1c4b5e8e87a1ad64fac10701e1a16851a8bd870ef4e85973"
  },
  "kernelspec": {
   "display_name": "Python 3.9.5 ('venv': venv)",
   "language": "python",
   "name": "python3"
  },
  "language_info": {
   "codemirror_mode": {
    "name": "ipython",
    "version": 3
   },
   "file_extension": ".py",
   "mimetype": "text/x-python",
   "name": "python",
   "nbconvert_exporter": "python",
   "pygments_lexer": "ipython3",
   "version": "3.10.10"
  },
  "orig_nbformat": 4
 },
 "nbformat": 4,
 "nbformat_minor": 2
}
