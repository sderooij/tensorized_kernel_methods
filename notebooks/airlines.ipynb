{
 "cells": [
  {
   "cell_type": "markdown",
   "metadata": {},
   "source": [
    "# Airlines dataset"
   ]
  },
  {
   "cell_type": "code",
   "execution_count": 28,
   "metadata": {},
   "outputs": [
    {
     "name": "stdout",
     "output_type": "stream",
     "text": [
      "The autoreload extension is already loaded. To reload it, use:\n",
      "  %reload_ext autoreload\n"
     ]
    }
   ],
   "source": [
    "%load_ext autoreload\n",
    "%autoreload 2"
   ]
  },
  {
   "cell_type": "code",
   "execution_count": 29,
   "metadata": {},
   "outputs": [
    {
     "name": "stderr",
     "output_type": "stream",
     "text": [
      "'export' is not recognized as an internal or external command,\n",
      "operable program or batch file.\n"
     ]
    }
   ],
   "source": [
    "import os\n",
    "os.environ['XLA_PYTHON_CLIENT_MEM_FRACTION']='.5'"
   ]
  },
  {
   "cell_type": "code",
   "execution_count": 30,
   "metadata": {},
   "outputs": [],
   "source": [
    "# from jax.config import config\n",
    "# config.update(\"jax_enable_x64\", True)"
   ]
  },
  {
   "cell_type": "markdown",
   "metadata": {},
   "source": [
    "## Load Airlines data"
   ]
  },
  {
   "cell_type": "code",
   "execution_count": 31,
   "metadata": {},
   "outputs": [],
   "source": [
    "import pandas as pd\n",
    "from pathlib import Path\n",
    "import os"
   ]
  },
  {
   "cell_type": "code",
   "execution_count": 32,
   "metadata": {},
   "outputs": [
    {
     "name": "stdout",
     "output_type": "stream",
     "text": [
      "c:\\Users\\selinederooij\\surfdrive\\Code\\tensorized_kernel_methods\\notebooks\n"
     ]
    }
   ],
   "source": [
    "file_dir = os.path.abspath('')\n",
    "os.chdir(file_dir)\n",
    "print(file_dir)"
   ]
  },
  {
   "cell_type": "code",
   "execution_count": 33,
   "metadata": {},
   "outputs": [
    {
     "ename": "FileNotFoundError",
     "evalue": "[Errno 2] No such file or directory: '../data/airline.csv'",
     "output_type": "error",
     "traceback": [
      "\u001b[1;31m---------------------------------------------------------------------------\u001b[0m",
      "\u001b[1;31mFileNotFoundError\u001b[0m                         Traceback (most recent call last)",
      "\u001b[1;32mc:\\Users\\selinederooij\\surfdrive\\Code\\tensorized_kernel_methods\\notebooks\\airlines.ipynb Cell 8\u001b[0m line \u001b[0;36m2\n\u001b[0;32m      <a href='vscode-notebook-cell:/c%3A/Users/selinederooij/surfdrive/Code/tensorized_kernel_methods/notebooks/airlines.ipynb#W6sZmlsZQ%3D%3D?line=0'>1</a>\u001b[0m data_path \u001b[39m=\u001b[39m \u001b[39m\"\u001b[39m\u001b[39m../data/airline.csv\u001b[39m\u001b[39m\"\u001b[39m\n\u001b[1;32m----> <a href='vscode-notebook-cell:/c%3A/Users/selinederooij/surfdrive/Code/tensorized_kernel_methods/notebooks/airlines.ipynb#W6sZmlsZQ%3D%3D?line=1'>2</a>\u001b[0m df \u001b[39m=\u001b[39m pd\u001b[39m.\u001b[39;49mread_csv(data_path)\n",
      "File \u001b[1;32mc:\\Users\\selinederooij\\Anaconda3\\envs\\TensorLibrary\\lib\\site-packages\\pandas\\io\\parsers\\readers.py:912\u001b[0m, in \u001b[0;36mread_csv\u001b[1;34m(filepath_or_buffer, sep, delimiter, header, names, index_col, usecols, dtype, engine, converters, true_values, false_values, skipinitialspace, skiprows, skipfooter, nrows, na_values, keep_default_na, na_filter, verbose, skip_blank_lines, parse_dates, infer_datetime_format, keep_date_col, date_parser, date_format, dayfirst, cache_dates, iterator, chunksize, compression, thousands, decimal, lineterminator, quotechar, quoting, doublequote, escapechar, comment, encoding, encoding_errors, dialect, on_bad_lines, delim_whitespace, low_memory, memory_map, float_precision, storage_options, dtype_backend)\u001b[0m\n\u001b[0;32m    899\u001b[0m kwds_defaults \u001b[39m=\u001b[39m _refine_defaults_read(\n\u001b[0;32m    900\u001b[0m     dialect,\n\u001b[0;32m    901\u001b[0m     delimiter,\n\u001b[1;32m   (...)\u001b[0m\n\u001b[0;32m    908\u001b[0m     dtype_backend\u001b[39m=\u001b[39mdtype_backend,\n\u001b[0;32m    909\u001b[0m )\n\u001b[0;32m    910\u001b[0m kwds\u001b[39m.\u001b[39mupdate(kwds_defaults)\n\u001b[1;32m--> 912\u001b[0m \u001b[39mreturn\u001b[39;00m _read(filepath_or_buffer, kwds)\n",
      "File \u001b[1;32mc:\\Users\\selinederooij\\Anaconda3\\envs\\TensorLibrary\\lib\\site-packages\\pandas\\io\\parsers\\readers.py:577\u001b[0m, in \u001b[0;36m_read\u001b[1;34m(filepath_or_buffer, kwds)\u001b[0m\n\u001b[0;32m    574\u001b[0m _validate_names(kwds\u001b[39m.\u001b[39mget(\u001b[39m\"\u001b[39m\u001b[39mnames\u001b[39m\u001b[39m\"\u001b[39m, \u001b[39mNone\u001b[39;00m))\n\u001b[0;32m    576\u001b[0m \u001b[39m# Create the parser.\u001b[39;00m\n\u001b[1;32m--> 577\u001b[0m parser \u001b[39m=\u001b[39m TextFileReader(filepath_or_buffer, \u001b[39m*\u001b[39m\u001b[39m*\u001b[39mkwds)\n\u001b[0;32m    579\u001b[0m \u001b[39mif\u001b[39;00m chunksize \u001b[39mor\u001b[39;00m iterator:\n\u001b[0;32m    580\u001b[0m     \u001b[39mreturn\u001b[39;00m parser\n",
      "File \u001b[1;32mc:\\Users\\selinederooij\\Anaconda3\\envs\\TensorLibrary\\lib\\site-packages\\pandas\\io\\parsers\\readers.py:1407\u001b[0m, in \u001b[0;36mTextFileReader.__init__\u001b[1;34m(self, f, engine, **kwds)\u001b[0m\n\u001b[0;32m   1404\u001b[0m     \u001b[39mself\u001b[39m\u001b[39m.\u001b[39moptions[\u001b[39m\"\u001b[39m\u001b[39mhas_index_names\u001b[39m\u001b[39m\"\u001b[39m] \u001b[39m=\u001b[39m kwds[\u001b[39m\"\u001b[39m\u001b[39mhas_index_names\u001b[39m\u001b[39m\"\u001b[39m]\n\u001b[0;32m   1406\u001b[0m \u001b[39mself\u001b[39m\u001b[39m.\u001b[39mhandles: IOHandles \u001b[39m|\u001b[39m \u001b[39mNone\u001b[39;00m \u001b[39m=\u001b[39m \u001b[39mNone\u001b[39;00m\n\u001b[1;32m-> 1407\u001b[0m \u001b[39mself\u001b[39m\u001b[39m.\u001b[39m_engine \u001b[39m=\u001b[39m \u001b[39mself\u001b[39;49m\u001b[39m.\u001b[39;49m_make_engine(f, \u001b[39mself\u001b[39;49m\u001b[39m.\u001b[39;49mengine)\n",
      "File \u001b[1;32mc:\\Users\\selinederooij\\Anaconda3\\envs\\TensorLibrary\\lib\\site-packages\\pandas\\io\\parsers\\readers.py:1661\u001b[0m, in \u001b[0;36mTextFileReader._make_engine\u001b[1;34m(self, f, engine)\u001b[0m\n\u001b[0;32m   1659\u001b[0m     \u001b[39mif\u001b[39;00m \u001b[39m\"\u001b[39m\u001b[39mb\u001b[39m\u001b[39m\"\u001b[39m \u001b[39mnot\u001b[39;00m \u001b[39min\u001b[39;00m mode:\n\u001b[0;32m   1660\u001b[0m         mode \u001b[39m+\u001b[39m\u001b[39m=\u001b[39m \u001b[39m\"\u001b[39m\u001b[39mb\u001b[39m\u001b[39m\"\u001b[39m\n\u001b[1;32m-> 1661\u001b[0m \u001b[39mself\u001b[39m\u001b[39m.\u001b[39mhandles \u001b[39m=\u001b[39m get_handle(\n\u001b[0;32m   1662\u001b[0m     f,\n\u001b[0;32m   1663\u001b[0m     mode,\n\u001b[0;32m   1664\u001b[0m     encoding\u001b[39m=\u001b[39;49m\u001b[39mself\u001b[39;49m\u001b[39m.\u001b[39;49moptions\u001b[39m.\u001b[39;49mget(\u001b[39m\"\u001b[39;49m\u001b[39mencoding\u001b[39;49m\u001b[39m\"\u001b[39;49m, \u001b[39mNone\u001b[39;49;00m),\n\u001b[0;32m   1665\u001b[0m     compression\u001b[39m=\u001b[39;49m\u001b[39mself\u001b[39;49m\u001b[39m.\u001b[39;49moptions\u001b[39m.\u001b[39;49mget(\u001b[39m\"\u001b[39;49m\u001b[39mcompression\u001b[39;49m\u001b[39m\"\u001b[39;49m, \u001b[39mNone\u001b[39;49;00m),\n\u001b[0;32m   1666\u001b[0m     memory_map\u001b[39m=\u001b[39;49m\u001b[39mself\u001b[39;49m\u001b[39m.\u001b[39;49moptions\u001b[39m.\u001b[39;49mget(\u001b[39m\"\u001b[39;49m\u001b[39mmemory_map\u001b[39;49m\u001b[39m\"\u001b[39;49m, \u001b[39mFalse\u001b[39;49;00m),\n\u001b[0;32m   1667\u001b[0m     is_text\u001b[39m=\u001b[39;49mis_text,\n\u001b[0;32m   1668\u001b[0m     errors\u001b[39m=\u001b[39;49m\u001b[39mself\u001b[39;49m\u001b[39m.\u001b[39;49moptions\u001b[39m.\u001b[39;49mget(\u001b[39m\"\u001b[39;49m\u001b[39mencoding_errors\u001b[39;49m\u001b[39m\"\u001b[39;49m, \u001b[39m\"\u001b[39;49m\u001b[39mstrict\u001b[39;49m\u001b[39m\"\u001b[39;49m),\n\u001b[0;32m   1669\u001b[0m     storage_options\u001b[39m=\u001b[39;49m\u001b[39mself\u001b[39;49m\u001b[39m.\u001b[39;49moptions\u001b[39m.\u001b[39;49mget(\u001b[39m\"\u001b[39;49m\u001b[39mstorage_options\u001b[39;49m\u001b[39m\"\u001b[39;49m, \u001b[39mNone\u001b[39;49;00m),\n\u001b[0;32m   1670\u001b[0m )\n\u001b[0;32m   1671\u001b[0m \u001b[39massert\u001b[39;00m \u001b[39mself\u001b[39m\u001b[39m.\u001b[39mhandles \u001b[39mis\u001b[39;00m \u001b[39mnot\u001b[39;00m \u001b[39mNone\u001b[39;00m\n\u001b[0;32m   1672\u001b[0m f \u001b[39m=\u001b[39m \u001b[39mself\u001b[39m\u001b[39m.\u001b[39mhandles\u001b[39m.\u001b[39mhandle\n",
      "File \u001b[1;32mc:\\Users\\selinederooij\\Anaconda3\\envs\\TensorLibrary\\lib\\site-packages\\pandas\\io\\common.py:859\u001b[0m, in \u001b[0;36mget_handle\u001b[1;34m(path_or_buf, mode, encoding, compression, memory_map, is_text, errors, storage_options)\u001b[0m\n\u001b[0;32m    854\u001b[0m \u001b[39melif\u001b[39;00m \u001b[39misinstance\u001b[39m(handle, \u001b[39mstr\u001b[39m):\n\u001b[0;32m    855\u001b[0m     \u001b[39m# Check whether the filename is to be opened in binary mode.\u001b[39;00m\n\u001b[0;32m    856\u001b[0m     \u001b[39m# Binary mode does not support 'encoding' and 'newline'.\u001b[39;00m\n\u001b[0;32m    857\u001b[0m     \u001b[39mif\u001b[39;00m ioargs\u001b[39m.\u001b[39mencoding \u001b[39mand\u001b[39;00m \u001b[39m\"\u001b[39m\u001b[39mb\u001b[39m\u001b[39m\"\u001b[39m \u001b[39mnot\u001b[39;00m \u001b[39min\u001b[39;00m ioargs\u001b[39m.\u001b[39mmode:\n\u001b[0;32m    858\u001b[0m         \u001b[39m# Encoding\u001b[39;00m\n\u001b[1;32m--> 859\u001b[0m         handle \u001b[39m=\u001b[39m \u001b[39mopen\u001b[39;49m(\n\u001b[0;32m    860\u001b[0m             handle,\n\u001b[0;32m    861\u001b[0m             ioargs\u001b[39m.\u001b[39;49mmode,\n\u001b[0;32m    862\u001b[0m             encoding\u001b[39m=\u001b[39;49mioargs\u001b[39m.\u001b[39;49mencoding,\n\u001b[0;32m    863\u001b[0m             errors\u001b[39m=\u001b[39;49merrors,\n\u001b[0;32m    864\u001b[0m             newline\u001b[39m=\u001b[39;49m\u001b[39m\"\u001b[39;49m\u001b[39m\"\u001b[39;49m,\n\u001b[0;32m    865\u001b[0m         )\n\u001b[0;32m    866\u001b[0m     \u001b[39melse\u001b[39;00m:\n\u001b[0;32m    867\u001b[0m         \u001b[39m# Binary mode\u001b[39;00m\n\u001b[0;32m    868\u001b[0m         handle \u001b[39m=\u001b[39m \u001b[39mopen\u001b[39m(handle, ioargs\u001b[39m.\u001b[39mmode)\n",
      "\u001b[1;31mFileNotFoundError\u001b[0m: [Errno 2] No such file or directory: '../data/airline.csv'"
     ]
    }
   ],
   "source": [
    "data_path = \"../data/airline.csv\"\n",
    "df = pd.read_csv(data_path)"
   ]
  },
  {
   "cell_type": "code",
   "execution_count": null,
   "metadata": {},
   "outputs": [
    {
     "data": {
      "text/html": [
       "<div>\n",
       "<style scoped>\n",
       "    .dataframe tbody tr th:only-of-type {\n",
       "        vertical-align: middle;\n",
       "    }\n",
       "\n",
       "    .dataframe tbody tr th {\n",
       "        vertical-align: top;\n",
       "    }\n",
       "\n",
       "    .dataframe thead th {\n",
       "        text-align: right;\n",
       "    }\n",
       "</style>\n",
       "<table border=\"1\" class=\"dataframe\">\n",
       "  <thead>\n",
       "    <tr style=\"text-align: right;\">\n",
       "      <th></th>\n",
       "      <th>Month</th>\n",
       "      <th>DayofMonth</th>\n",
       "      <th>DayOfWeek</th>\n",
       "      <th>DepTime</th>\n",
       "      <th>ArrTime</th>\n",
       "      <th>AirTime</th>\n",
       "      <th>Distance</th>\n",
       "      <th>plane_age</th>\n",
       "      <th>ArrDelay</th>\n",
       "    </tr>\n",
       "  </thead>\n",
       "  <tbody>\n",
       "    <tr>\n",
       "      <th>0</th>\n",
       "      <td>1</td>\n",
       "      <td>3</td>\n",
       "      <td>4</td>\n",
       "      <td>1203</td>\n",
       "      <td>1331</td>\n",
       "      <td>116</td>\n",
       "      <td>810</td>\n",
       "      <td>10</td>\n",
       "      <td>-14</td>\n",
       "    </tr>\n",
       "    <tr>\n",
       "      <th>1</th>\n",
       "      <td>1</td>\n",
       "      <td>3</td>\n",
       "      <td>4</td>\n",
       "      <td>454</td>\n",
       "      <td>598</td>\n",
       "      <td>314</td>\n",
       "      <td>2283</td>\n",
       "      <td>10</td>\n",
       "      <td>-22</td>\n",
       "    </tr>\n",
       "    <tr>\n",
       "      <th>2</th>\n",
       "      <td>1</td>\n",
       "      <td>3</td>\n",
       "      <td>4</td>\n",
       "      <td>652</td>\n",
       "      <td>963</td>\n",
       "      <td>175</td>\n",
       "      <td>1521</td>\n",
       "      <td>10</td>\n",
       "      <td>-17</td>\n",
       "    </tr>\n",
       "    <tr>\n",
       "      <th>3</th>\n",
       "      <td>1</td>\n",
       "      <td>3</td>\n",
       "      <td>4</td>\n",
       "      <td>1013</td>\n",
       "      <td>1172</td>\n",
       "      <td>79</td>\n",
       "      <td>577</td>\n",
       "      <td>10</td>\n",
       "      <td>2</td>\n",
       "    </tr>\n",
       "    <tr>\n",
       "      <th>4</th>\n",
       "      <td>1</td>\n",
       "      <td>4</td>\n",
       "      <td>5</td>\n",
       "      <td>818</td>\n",
       "      <td>880</td>\n",
       "      <td>48</td>\n",
       "      <td>239</td>\n",
       "      <td>10</td>\n",
       "      <td>10</td>\n",
       "    </tr>\n",
       "  </tbody>\n",
       "</table>\n",
       "</div>"
      ],
      "text/plain": [
       "   Month  DayofMonth  DayOfWeek  DepTime  ArrTime  AirTime  Distance  \\\n",
       "0      1           3          4     1203     1331      116       810   \n",
       "1      1           3          4      454      598      314      2283   \n",
       "2      1           3          4      652      963      175      1521   \n",
       "3      1           3          4     1013     1172       79       577   \n",
       "4      1           4          5      818      880       48       239   \n",
       "\n",
       "   plane_age  ArrDelay  \n",
       "0         10       -14  \n",
       "1         10       -22  \n",
       "2         10       -17  \n",
       "3         10         2  \n",
       "4         10        10  "
      ]
     },
     "execution_count": 25,
     "metadata": {},
     "output_type": "execute_result"
    }
   ],
   "source": [
    "df.head()"
   ]
  },
  {
   "cell_type": "code",
   "execution_count": null,
   "metadata": {},
   "outputs": [],
   "source": [
    "from math import floor\n",
    "N, d = df.shape\n",
    "idx = floor(2*N/3)\n",
    "df_train = df.iloc[:idx,:]\n",
    "df_test = df.iloc[idx:,:]\n"
   ]
  },
  {
   "cell_type": "code",
   "execution_count": null,
   "metadata": {},
   "outputs": [
    {
     "name": "stderr",
     "output_type": "stream",
     "text": [
      "/var/folders/w_/_d1xt2v961l669hh9_yf8dnc0000gn/T/ipykernel_54547/3411369841.py:1: SettingWithCopyWarning: \n",
      "A value is trying to be set on a copy of a slice from a DataFrame.\n",
      "Try using .loc[row_indexer,col_indexer] = value instead\n",
      "\n",
      "See the caveats in the documentation: https://pandas.pydata.org/pandas-docs/stable/user_guide/indexing.html#returning-a-view-versus-a-copy\n",
      "  df_train['ArrDelay'] = (df_train['ArrDelay'] - df_train['ArrDelay'].mean()) / df_train['ArrDelay'].std()\n"
     ]
    }
   ],
   "source": [
    "df_train['ArrDelay'] = (df_train['ArrDelay'] - df_train['ArrDelay'].mean()) / df_train['ArrDelay'].std()"
   ]
  },
  {
   "cell_type": "code",
   "execution_count": null,
   "metadata": {},
   "outputs": [],
   "source": [
    "feature_names = ['Month', 'DayofMonth', 'DayOfWeek', 'DepTime', 'ArrTime', 'AirTime', 'Distance', 'plane_age']\n",
    "x = df_train[feature_names].to_numpy()\n",
    "\n",
    "label_name = ['ArrDelay']\n",
    "y = df_train[label_name].to_numpy()"
   ]
  },
  {
   "cell_type": "code",
   "execution_count": null,
   "metadata": {},
   "outputs": [
    {
     "data": {
      "text/plain": [
       "(3952942, 8)"
      ]
     },
     "execution_count": 29,
     "metadata": {},
     "output_type": "execute_result"
    }
   ],
   "source": [
    "x.shape"
   ]
  },
  {
   "cell_type": "code",
   "execution_count": null,
   "metadata": {},
   "outputs": [],
   "source": [
    "x = (x - x.min(axis=0)) / (x.max(axis=0) - x.min(axis=0))"
   ]
  },
  {
   "cell_type": "code",
   "execution_count": null,
   "metadata": {},
   "outputs": [],
   "source": [
    "y = (y - y.mean(axis=0)) / y.std(axis=0)"
   ]
  },
  {
   "cell_type": "markdown",
   "metadata": {},
   "source": [
    "### Data to JAX array"
   ]
  },
  {
   "cell_type": "code",
   "execution_count": null,
   "metadata": {},
   "outputs": [],
   "source": [
    "from jax import numpy as jnp\n",
    "x = jnp.array(x)\n",
    "y = jnp.array(y)"
   ]
  },
  {
   "cell_type": "code",
   "execution_count": null,
   "metadata": {},
   "outputs": [],
   "source": [
    "from jax import random\n",
    "key = random.PRNGKey(42)"
   ]
  },
  {
   "cell_type": "markdown",
   "metadata": {},
   "source": [
    "## Tensor Kernel Machine"
   ]
  },
  {
   "cell_type": "markdown",
   "metadata": {},
   "source": [
    "### Polynomial"
   ]
  },
  {
   "cell_type": "code",
   "execution_count": null,
   "metadata": {},
   "outputs": [
    {
     "ename": "KeyboardInterrupt",
     "evalue": "",
     "output_type": "error",
     "traceback": [
      "\u001b[0;31m---------------------------------------------------------------------------\u001b[0m",
      "\u001b[0;31mKeyboardInterrupt\u001b[0m                         Traceback (most recent call last)",
      "\u001b[1;32m/home/jetzeschuurman/gitProjects/phd/tkm-gpu/notebooks/airlines.ipynb Cell 18'\u001b[0m in \u001b[0;36m<cell line: 7>\u001b[0;34m()\u001b[0m\n\u001b[1;32m      <a href='vscode-notebook-cell://ssh-remote%2Btud278689/home/jetzeschuurman/gitProjects/phd/tkm-gpu/notebooks/airlines.ipynb#ch0000016vscode-remote?line=2'>3</a>\u001b[0m \u001b[39mfrom\u001b[39;00m \u001b[39mtkm\u001b[39;00m\u001b[39m.\u001b[39;00m\u001b[39mfeatures\u001b[39;00m \u001b[39mimport\u001b[39;00m polynomial\n\u001b[1;32m      <a href='vscode-notebook-cell://ssh-remote%2Btud278689/home/jetzeschuurman/gitProjects/phd/tkm-gpu/notebooks/airlines.ipynb#ch0000016vscode-remote?line=4'>5</a>\u001b[0m fit_compiled \u001b[39m=\u001b[39m jit(fit)\n\u001b[0;32m----> <a href='vscode-notebook-cell://ssh-remote%2Btud278689/home/jetzeschuurman/gitProjects/phd/tkm-gpu/notebooks/airlines.ipynb#ch0000016vscode-remote?line=6'>7</a>\u001b[0m W\u001b[39m=\u001b[39m fit(key,x,y,M\u001b[39m=\u001b[39;49m\u001b[39m4\u001b[39;49m,R\u001b[39m=\u001b[39;49m\u001b[39m2\u001b[39;49m,feature_map\u001b[39m=\u001b[39;49mpolynomial,numberSweeps\u001b[39m=\u001b[39;49m\u001b[39m5\u001b[39;49m)\n",
      "File \u001b[0;32m~/gitProjects/phd/tkm-gpu/src/tkm/model.py:107\u001b[0m, in \u001b[0;36mfit\u001b[0;34m(key, X, y, M, R, l, lengthscale, numberSweeps, feature_map, W)\u001b[0m\n\u001b[1;32m    104\u001b[0m reg \u001b[39m/\u001b[39m\u001b[39m=\u001b[39m jnp\u001b[39m.\u001b[39mdot(W[d]\u001b[39m.\u001b[39mT, W[d])                                    \u001b[39m# regularization term\u001b[39;00m\n\u001b[1;32m    105\u001b[0m regularization \u001b[39m=\u001b[39m l \u001b[39m*\u001b[39m jnp\u001b[39m.\u001b[39mkron(reg, jnp\u001b[39m.\u001b[39meye(M)) \u001b[39m# TODO: this results in sparse matrix, check if multiplications with 0 need to be avoided\u001b[39;00m\n\u001b[1;32m    106\u001b[0m x \u001b[39m=\u001b[39m jnp\u001b[39m.\u001b[39mlinalg\u001b[39m.\u001b[39msolve(                                   \u001b[39m# solve systems of equations\u001b[39;00m\n\u001b[0;32m--> 107\u001b[0m     (jnp\u001b[39m.\u001b[39;49mdot(C\u001b[39m.\u001b[39;49mT, C) \u001b[39m+\u001b[39m regularization), \n\u001b[1;32m    108\u001b[0m     jnp\u001b[39m.\u001b[39mdot(C\u001b[39m.\u001b[39mT, y)\n\u001b[1;32m    109\u001b[0m )\n\u001b[1;32m    110\u001b[0m \u001b[39m# loss.append(float(loss_function(C,x,y,regularization)[0][0]))\u001b[39;00m\n\u001b[1;32m    111\u001b[0m \u001b[39m# print(error(C,x,y))\u001b[39;00m\n\u001b[1;32m    112\u001b[0m \u001b[39m# loss = jnp.linalg.norm(C @ x - y)**2 + x.T @ regularization @ x )  #TODO check if **2 is necessary (can it be done in function call of norm)\u001b[39;00m\n\u001b[1;32m    113\u001b[0m \u001b[39m# error =  jnp.mean(jnp.sign(C @ x) != y) # TODO not equal elementwise   # classification; for regression mean(((C*x)-y).^2)\u001b[39;00m\n\u001b[1;32m    114\u001b[0m W \u001b[39m=\u001b[39m W\u001b[39m.\u001b[39mat[d]\u001b[39m.\u001b[39mset( x\u001b[39m.\u001b[39mreshape((M,R)) )\n",
      "    \u001b[0;31m[... skipping hidden 1 frame]\u001b[0m\n",
      "File \u001b[0;32m~/gitProjects/phd/tkm-gpu/venv/lib/python3.8/site-packages/jax/_src/api.py:522\u001b[0m, in \u001b[0;36m_cpp_jit.<locals>.cache_miss\u001b[0;34m(*args, **kwargs)\u001b[0m\n\u001b[1;32m    520\u001b[0m   in_type \u001b[39m=\u001b[39m pe\u001b[39m.\u001b[39minfer_lambda_input_type(\u001b[39mNone\u001b[39;00m, args_flat)\n\u001b[1;32m    521\u001b[0m   flat_fun \u001b[39m=\u001b[39m lu\u001b[39m.\u001b[39mannotate(flat_fun, in_type)\n\u001b[0;32m--> 522\u001b[0m out_flat \u001b[39m=\u001b[39m xla\u001b[39m.\u001b[39;49mxla_call(\n\u001b[1;32m    523\u001b[0m     flat_fun, \u001b[39m*\u001b[39;49margs_flat,\n\u001b[1;32m    524\u001b[0m     device\u001b[39m=\u001b[39;49mdevice, backend\u001b[39m=\u001b[39;49mbackend, name\u001b[39m=\u001b[39;49mflat_fun\u001b[39m.\u001b[39;49m\u001b[39m__name__\u001b[39;49m,\n\u001b[1;32m    525\u001b[0m     donated_invars\u001b[39m=\u001b[39;49mdonated_invars, inline\u001b[39m=\u001b[39;49minline, keep_unused\u001b[39m=\u001b[39;49mkeep_unused)\n\u001b[1;32m    526\u001b[0m out_pytree_def \u001b[39m=\u001b[39m out_tree()\n\u001b[1;32m    527\u001b[0m out \u001b[39m=\u001b[39m tree_unflatten(out_pytree_def, out_flat)\n",
      "File \u001b[0;32m~/gitProjects/phd/tkm-gpu/venv/lib/python3.8/site-packages/jax/core.py:1836\u001b[0m, in \u001b[0;36mCallPrimitive.bind\u001b[0;34m(self, fun, *args, **params)\u001b[0m\n\u001b[1;32m   1835\u001b[0m \u001b[39mdef\u001b[39;00m \u001b[39mbind\u001b[39m(\u001b[39mself\u001b[39m, fun, \u001b[39m*\u001b[39margs, \u001b[39m*\u001b[39m\u001b[39m*\u001b[39mparams):\n\u001b[0;32m-> 1836\u001b[0m   \u001b[39mreturn\u001b[39;00m call_bind(\u001b[39mself\u001b[39;49m, fun, \u001b[39m*\u001b[39;49margs, \u001b[39m*\u001b[39;49m\u001b[39m*\u001b[39;49mparams)\n",
      "File \u001b[0;32m~/gitProjects/phd/tkm-gpu/venv/lib/python3.8/site-packages/jax/core.py:1852\u001b[0m, in \u001b[0;36mcall_bind\u001b[0;34m(primitive, fun, *args, **params)\u001b[0m\n\u001b[1;32m   1850\u001b[0m tracers \u001b[39m=\u001b[39m \u001b[39mmap\u001b[39m(top_trace\u001b[39m.\u001b[39mfull_raise, args)\n\u001b[1;32m   1851\u001b[0m fun_ \u001b[39m=\u001b[39m lu\u001b[39m.\u001b[39mannotate(fun_, fun\u001b[39m.\u001b[39min_type)\n\u001b[0;32m-> 1852\u001b[0m outs \u001b[39m=\u001b[39m top_trace\u001b[39m.\u001b[39;49mprocess_call(primitive, fun_, tracers, params)\n\u001b[1;32m   1853\u001b[0m \u001b[39mreturn\u001b[39;00m \u001b[39mmap\u001b[39m(full_lower, apply_todos(env_trace_todo(), outs))\n",
      "File \u001b[0;32m~/gitProjects/phd/tkm-gpu/venv/lib/python3.8/site-packages/jax/core.py:683\u001b[0m, in \u001b[0;36mEvalTrace.process_call\u001b[0;34m(self, primitive, f, tracers, params)\u001b[0m\n\u001b[1;32m    682\u001b[0m \u001b[39mdef\u001b[39;00m \u001b[39mprocess_call\u001b[39m(\u001b[39mself\u001b[39m, primitive, f, tracers, params):\n\u001b[0;32m--> 683\u001b[0m   \u001b[39mreturn\u001b[39;00m primitive\u001b[39m.\u001b[39;49mimpl(f, \u001b[39m*\u001b[39;49mtracers, \u001b[39m*\u001b[39;49m\u001b[39m*\u001b[39;49mparams)\n",
      "File \u001b[0;32m~/gitProjects/phd/tkm-gpu/venv/lib/python3.8/site-packages/jax/_src/dispatch.py:196\u001b[0m, in \u001b[0;36m_xla_call_impl\u001b[0;34m(***failed resolving arguments***)\u001b[0m\n\u001b[1;32m    194\u001b[0m \u001b[39mdel\u001b[39;00m inline  \u001b[39m# Only used at tracing time\u001b[39;00m\n\u001b[1;32m    195\u001b[0m arg_specs \u001b[39m=\u001b[39m unsafe_map(arg_spec, args)\n\u001b[0;32m--> 196\u001b[0m compiled_fun \u001b[39m=\u001b[39m xla_callable(fun, device, backend, name, donated_invars,\n\u001b[1;32m    197\u001b[0m                             keep_unused, \u001b[39m*\u001b[39;49marg_specs)\n\u001b[1;32m    198\u001b[0m \u001b[39mtry\u001b[39;00m:\n\u001b[1;32m    199\u001b[0m   \u001b[39mreturn\u001b[39;00m compiled_fun(\u001b[39m*\u001b[39margs)\n",
      "File \u001b[0;32m~/gitProjects/phd/tkm-gpu/venv/lib/python3.8/site-packages/jax/linear_util.py:286\u001b[0m, in \u001b[0;36mcache.<locals>.memoized_fun\u001b[0;34m(fun, *args)\u001b[0m\n\u001b[1;32m    284\u001b[0m   fun\u001b[39m.\u001b[39mpopulate_stores(stores)\n\u001b[1;32m    285\u001b[0m \u001b[39melse\u001b[39;00m:\n\u001b[0;32m--> 286\u001b[0m   ans \u001b[39m=\u001b[39m call(fun, \u001b[39m*\u001b[39;49margs)\n\u001b[1;32m    287\u001b[0m   cache[key] \u001b[39m=\u001b[39m (ans, fun\u001b[39m.\u001b[39mstores)\n\u001b[1;32m    289\u001b[0m thread_local\u001b[39m.\u001b[39mmost_recent_entry \u001b[39m=\u001b[39m weakref\u001b[39m.\u001b[39mref(ans)\n",
      "File \u001b[0;32m~/gitProjects/phd/tkm-gpu/venv/lib/python3.8/site-packages/jax/_src/dispatch.py:245\u001b[0m, in \u001b[0;36m_xla_callable_uncached\u001b[0;34m(fun, device, backend, name, donated_invars, keep_unused, *arg_specs)\u001b[0m\n\u001b[1;32m    243\u001b[0m \u001b[39mdef\u001b[39;00m \u001b[39m_xla_callable_uncached\u001b[39m(fun: lu\u001b[39m.\u001b[39mWrappedFun, device, backend, name,\n\u001b[1;32m    244\u001b[0m                            donated_invars, keep_unused, \u001b[39m*\u001b[39marg_specs):\n\u001b[0;32m--> 245\u001b[0m   \u001b[39mreturn\u001b[39;00m lower_xla_callable(fun, device, backend, name, donated_invars, \u001b[39mFalse\u001b[39;49;00m,\n\u001b[1;32m    246\u001b[0m                             keep_unused, \u001b[39m*\u001b[39;49marg_specs)\u001b[39m.\u001b[39;49mcompile()\u001b[39m.\u001b[39munsafe_call\n",
      "File \u001b[0;32m~/gitProjects/phd/tkm-gpu/venv/lib/python3.8/site-packages/jax/_src/dispatch.py:808\u001b[0m, in \u001b[0;36mXlaComputation.compile\u001b[0;34m(self)\u001b[0m\n\u001b[1;32m    805\u001b[0m     \u001b[39mself\u001b[39m\u001b[39m.\u001b[39m_executable \u001b[39m=\u001b[39m XlaCompiledComputation\u001b[39m.\u001b[39mfrom_trivial_jaxpr(\n\u001b[1;32m    806\u001b[0m         \u001b[39m*\u001b[39m\u001b[39m*\u001b[39m\u001b[39mself\u001b[39m\u001b[39m.\u001b[39mcompile_args)\n\u001b[1;32m    807\u001b[0m   \u001b[39melse\u001b[39;00m:\n\u001b[0;32m--> 808\u001b[0m     \u001b[39mself\u001b[39m\u001b[39m.\u001b[39m_executable \u001b[39m=\u001b[39m XlaCompiledComputation\u001b[39m.\u001b[39;49mfrom_xla_computation(\n\u001b[1;32m    809\u001b[0m         \u001b[39mself\u001b[39;49m\u001b[39m.\u001b[39;49mname, \u001b[39mself\u001b[39;49m\u001b[39m.\u001b[39;49m_hlo, \u001b[39mself\u001b[39;49m\u001b[39m.\u001b[39;49m_in_type, \u001b[39mself\u001b[39;49m\u001b[39m.\u001b[39;49m_out_type,\n\u001b[1;32m    810\u001b[0m         \u001b[39m*\u001b[39;49m\u001b[39m*\u001b[39;49m\u001b[39mself\u001b[39;49m\u001b[39m.\u001b[39;49mcompile_args)\n\u001b[1;32m    812\u001b[0m \u001b[39mreturn\u001b[39;00m \u001b[39mself\u001b[39m\u001b[39m.\u001b[39m_executable\n",
      "File \u001b[0;32m~/gitProjects/phd/tkm-gpu/venv/lib/python3.8/site-packages/jax/_src/dispatch.py:911\u001b[0m, in \u001b[0;36mXlaCompiledComputation.from_xla_computation\u001b[0;34m(name, xla_computation, in_type, out_type, nreps, device, backend, tuple_args, in_avals, out_avals, has_unordered_effects, ordered_effects, kept_var_idx, keepalive)\u001b[0m\n\u001b[1;32m    908\u001b[0m options\u001b[39m.\u001b[39mparameter_is_tupled_arguments \u001b[39m=\u001b[39m tuple_args\n\u001b[1;32m    909\u001b[0m \u001b[39mwith\u001b[39;00m log_elapsed_time(\u001b[39mf\u001b[39m\u001b[39m\"\u001b[39m\u001b[39mFinished XLA compilation of \u001b[39m\u001b[39m{\u001b[39;00mname\u001b[39m}\u001b[39;00m\u001b[39m \u001b[39m\u001b[39m\"\u001b[39m\n\u001b[1;32m    910\u001b[0m                       \u001b[39m\"\u001b[39m\u001b[39min \u001b[39m\u001b[39m{elapsed_time}\u001b[39;00m\u001b[39m sec\u001b[39m\u001b[39m\"\u001b[39m):\n\u001b[0;32m--> 911\u001b[0m   compiled \u001b[39m=\u001b[39m compile_or_get_cached(backend, xla_computation, options)\n\u001b[1;32m    912\u001b[0m buffer_counts \u001b[39m=\u001b[39m [aval_to_num_buffers(aval) \u001b[39mfor\u001b[39;00m aval \u001b[39min\u001b[39;00m out_avals]\n\u001b[1;32m    913\u001b[0m \u001b[39mif\u001b[39;00m ordered_effects \u001b[39mor\u001b[39;00m has_unordered_effects:\n",
      "File \u001b[0;32m~/gitProjects/phd/tkm-gpu/venv/lib/python3.8/site-packages/jax/_src/dispatch.py:872\u001b[0m, in \u001b[0;36mcompile_or_get_cached\u001b[0;34m(backend, computation, compile_options)\u001b[0m\n\u001b[1;32m    870\u001b[0m     ir_str \u001b[39m=\u001b[39m computation\n\u001b[1;32m    871\u001b[0m   _dump_ir_to_file(module_name, ir_str)\n\u001b[0;32m--> 872\u001b[0m \u001b[39mreturn\u001b[39;00m backend_compile(backend, computation, compile_options)\n",
      "File \u001b[0;32m~/gitProjects/phd/tkm-gpu/venv/lib/python3.8/site-packages/jax/_src/profiler.py:312\u001b[0m, in \u001b[0;36mannotate_function.<locals>.wrapper\u001b[0;34m(*args, **kwargs)\u001b[0m\n\u001b[1;32m    309\u001b[0m \u001b[39m@wraps\u001b[39m(func)\n\u001b[1;32m    310\u001b[0m \u001b[39mdef\u001b[39;00m \u001b[39mwrapper\u001b[39m(\u001b[39m*\u001b[39margs, \u001b[39m*\u001b[39m\u001b[39m*\u001b[39mkwargs):\n\u001b[1;32m    311\u001b[0m   \u001b[39mwith\u001b[39;00m TraceAnnotation(name, \u001b[39m*\u001b[39m\u001b[39m*\u001b[39mdecorator_kwargs):\n\u001b[0;32m--> 312\u001b[0m     \u001b[39mreturn\u001b[39;00m func(\u001b[39m*\u001b[39;49margs, \u001b[39m*\u001b[39;49m\u001b[39m*\u001b[39;49mkwargs)\n\u001b[1;32m    313\u001b[0m   \u001b[39mreturn\u001b[39;00m wrapper\n",
      "File \u001b[0;32m~/gitProjects/phd/tkm-gpu/venv/lib/python3.8/site-packages/jax/_src/dispatch.py:818\u001b[0m, in \u001b[0;36mbackend_compile\u001b[0;34m(backend, built_c, options)\u001b[0m\n\u001b[1;32m    814\u001b[0m \u001b[39m@profiler\u001b[39m\u001b[39m.\u001b[39mannotate_function\n\u001b[1;32m    815\u001b[0m \u001b[39mdef\u001b[39;00m \u001b[39mbackend_compile\u001b[39m(backend, built_c, options):\n\u001b[1;32m    816\u001b[0m   \u001b[39m# we use a separate function call to ensure that XLA compilation appears\u001b[39;00m\n\u001b[1;32m    817\u001b[0m   \u001b[39m# separately in Python profiling results\u001b[39;00m\n\u001b[0;32m--> 818\u001b[0m   \u001b[39mreturn\u001b[39;00m backend\u001b[39m.\u001b[39;49mcompile(built_c, compile_options\u001b[39m=\u001b[39;49moptions)\n",
      "\u001b[0;31mKeyboardInterrupt\u001b[0m: "
     ]
    }
   ],
   "source": [
    "from tkm.model import fit\n",
    "from jax import jit\n",
    "from tkm.features import polynomial\n",
    "\n",
    "fit_compiled = jit(fit)\n",
    "\n",
    "W= fit(key,x,y,M=20,R=2,feature_map=polynomial,numberSweeps=5)\n",
    "\n",
    "%time W = fit(key,x,y, feature_map=polynomial)\n",
    "%time W = fit_compiled(key, x, y, feature_map=polynomial)"
   ]
  },
  {
   "cell_type": "code",
   "execution_count": null,
   "metadata": {},
   "outputs": [
    {
     "data": {
      "text/plain": [
       "[5887081.5,\n",
       " 5868684.0,\n",
       " 5852947.5,\n",
       " 5786518.5,\n",
       " 5754037.0,\n",
       " 5749995.0,\n",
       " 5741692.5,\n",
       " 5725896.5,\n",
       " 5718140.0,\n",
       " 5708719.0,\n",
       " 5704233.0,\n",
       " 5619731.0,\n",
       " 5542762.5,\n",
       " 5521153.0,\n",
       " 5634999.0,\n",
       " 5672474.5,\n",
       " 5545400.0,\n",
       " 5532472.0,\n",
       " 5531686.0,\n",
       " 5464710.0,\n",
       " 5451585.0,\n",
       " 5438640.5,\n",
       " 5431995.0,\n",
       " 5403375.0,\n",
       " 5401704.5,\n",
       " 5400475.5,\n",
       " 5399960.0,\n",
       " 5397021.5,\n",
       " 5389956.0,\n",
       " 5387088.5,\n",
       " 5378288.0,\n",
       " 5377906.0,\n",
       " 5375984.5,\n",
       " 5375589.0,\n",
       " 5376113.0,\n",
       " 5365985.5,\n",
       " 5356519.5,\n",
       " 5352387.0,\n",
       " 5346017.0,\n",
       " 5355945.0,\n",
       " 5343421.5,\n",
       " 5343146.0,\n",
       " 5345951.0,\n",
       " 5335261.0,\n",
       " 5326116.0,\n",
       " 5321030.5,\n",
       " 5316943.0,\n",
       " 5322492.0,\n",
       " 5313683.5,\n",
       " 5312603.0,\n",
       " 5313831.0,\n",
       " 5306247.0,\n",
       " 5299004.0,\n",
       " 5291290.0,\n",
       " 5291153.5,\n",
       " 5292189.5,\n",
       " 5286456.0,\n",
       " 5285015.0,\n",
       " 5285916.0,\n",
       " 5283170.0,\n",
       " 5281379.5,\n",
       " 5272585.0,\n",
       " 5275935.5,\n",
       " 5273724.0,\n",
       " 5270499.5,\n",
       " 5268933.5,\n",
       " 5269916.0,\n",
       " 5269837.5,\n",
       " 5270604.5,\n",
       " 5262048.0,\n",
       " 5265740.5,\n",
       " 5264445.0,\n",
       " 5260804.5,\n",
       " 5259120.5,\n",
       " 5260269.5,\n",
       " 5261099.0,\n",
       " 5262292.5,\n",
       " 5254369.5,\n",
       " 5257309.0,\n",
       " 5256725.5]"
      ]
     },
     "execution_count": 33,
     "metadata": {},
     "output_type": "execute_result"
    }
   ],
   "source": [
    "loss"
   ]
  },
  {
   "cell_type": "markdown",
   "metadata": {},
   "source": [
    "#### Predict"
   ]
  },
  {
   "cell_type": "code",
   "execution_count": null,
   "metadata": {},
   "outputs": [
    {
     "data": {
      "text/plain": [
       "DeviceArray(2291.404, dtype=float32)"
      ]
     },
     "execution_count": 34,
     "metadata": {},
     "output_type": "execute_result"
    }
   ],
   "source": [
    "from tkm.model import predict\n",
    "from tkm.metrics import rmse\n",
    "predict_compiled = jit(predict)\n",
    "\n",
    "\n",
    "\n",
    "y_hat = predict(x, W, feature_map=polynomial,M=4,R=2)\n",
    "err = rmse(y.squeeze(), y_hat)\n",
    "err\n",
    "\n",
    "# %timeit predict(x, W, feature_map=polynomial)\n",
    "# %timeit predict_compiled(x,W, feature_map=polynomial)"
   ]
  },
  {
   "cell_type": "code",
   "execution_count": null,
   "metadata": {},
   "outputs": [],
   "source": [
    "# from jax import jit\n",
    "# from tkm.model import predict_vmap\n",
    "# predict_vmap_compiled = jit(predict_vmap)\n",
    "\n",
    "# %timeit y_hat = predict_vmap(x, W, feature_map=polynomial)\n",
    "# %timeit predict_vmap_compiled(x,W)"
   ]
  },
  {
   "attachments": {},
   "cell_type": "markdown",
   "metadata": {},
   "source": [
    "### Fourier Features"
   ]
  },
  {
   "cell_type": "code",
   "execution_count": null,
   "metadata": {},
   "outputs": [],
   "source": [
    "from tkm.model import TensorizedKernelMachine as TKM\n",
    "from tkm.features import fourier\n",
    "\n",
    "model_fourier = TKM(M=40,R=5,features=fourier)"
   ]
  },
  {
   "cell_type": "code",
   "execution_count": null,
   "metadata": {},
   "outputs": [],
   "source": [
    "!export XLA_PYTHON_CLIENT_MEM_FRACTION=.5"
   ]
  },
  {
   "cell_type": "code",
   "execution_count": null,
   "metadata": {},
   "outputs": [
    {
     "name": "stdout",
     "output_type": "stream",
     "text": [
      "CPU times: user 49min 25s, sys: 7min 51s, total: 57min 16s\n",
      "Wall time: 12min 19s\n"
     ]
    }
   ],
   "source": [
    "%%time\n",
    "W = model_fourier.fit(key,x,y)"
   ]
  },
  {
   "cell_type": "code",
   "execution_count": null,
   "metadata": {},
   "outputs": [],
   "source": [
    "!export XLA_PYTHON_CLIENT_MEM_FRACTION=.9"
   ]
  },
  {
   "cell_type": "code",
   "execution_count": null,
   "metadata": {},
   "outputs": [
    {
     "name": "stdout",
     "output_type": "stream",
     "text": [
      "CPU times: user 49min 14s, sys: 8min 18s, total: 57min 32s\n",
      "Wall time: 12min\n"
     ]
    }
   ],
   "source": [
    "%%time\n",
    "W = model_fourier.fit(key,x,y)"
   ]
  },
  {
   "cell_type": "code",
   "execution_count": null,
   "metadata": {},
   "outputs": [],
   "source": [
    "model_fourier_b10k = TKM(M=40,R=5,features=fourier, batch_size=10000)"
   ]
  },
  {
   "cell_type": "code",
   "execution_count": null,
   "metadata": {},
   "outputs": [
    {
     "name": "stdout",
     "output_type": "stream",
     "text": [
      "CPU times: user 49min 26s, sys: 7min 34s, total: 57min 1s\n",
      "Wall time: 12min 10s\n"
     ]
    }
   ],
   "source": [
    "%%time\n",
    "W = model_fourier_b10k.fit(key,x,y)"
   ]
  },
  {
   "cell_type": "code",
   "execution_count": null,
   "metadata": {},
   "outputs": [],
   "source": [
    "model_fourier_r20 = TKM(M=40,R=20,features=fourier)"
   ]
  },
  {
   "cell_type": "code",
   "execution_count": null,
   "metadata": {},
   "outputs": [
    {
     "name": "stdout",
     "output_type": "stream",
     "text": [
      "CPU times: user 17.5 s, sys: 3.04 s, total: 20.5 s\n",
      "Wall time: 5.34 s\n"
     ]
    }
   ],
   "source": [
    "%%time\n",
    "y_hat = model_fourier.predict(x, W)"
   ]
  },
  {
   "cell_type": "code",
   "execution_count": null,
   "metadata": {},
   "outputs": [
    {
     "name": "stdout",
     "output_type": "stream",
     "text": [
      "nan\n"
     ]
    }
   ],
   "source": [
    "from tkm.metrics import rmse\n",
    "rmse = rmse(y.squeeze(), y_hat)\n",
    "print(rmse)"
   ]
  },
  {
   "cell_type": "code",
   "execution_count": null,
   "metadata": {},
   "outputs": [],
   "source": [
    "W = fit_compiled(key,x,y)"
   ]
  },
  {
   "cell_type": "code",
   "execution_count": null,
   "metadata": {},
   "outputs": [
    {
     "name": "stdout",
     "output_type": "stream",
     "text": [
      "1.02 s ± 679 µs per loop (mean ± std. dev. of 7 runs, 1 loop each)\n"
     ]
    }
   ],
   "source": [
    "%timeit fit_compiled(key,x,y).block_until_ready()"
   ]
  },
  {
   "cell_type": "code",
   "execution_count": null,
   "metadata": {},
   "outputs": [],
   "source": [
    "from tkm.model import predict_vmap\n",
    "predict_vmap_poly = partial(predict_vmap, feature_map=fourier, M=40, R=5, lengthscale=x.std(axis=0).mean())\n",
    "predict_vmap_compiled = jit(predict_vmap_poly)"
   ]
  },
  {
   "cell_type": "code",
   "execution_count": null,
   "metadata": {},
   "outputs": [
    {
     "name": "stdout",
     "output_type": "stream",
     "text": [
      "2293.5806\n"
     ]
    }
   ],
   "source": [
    "from tkm.metrics import rmse\n",
    "\n",
    "y_hat = predict_vmap_compiled(x,W).block_until_ready()\n",
    "err = rmse(y.squeeze(), y_hat)\n",
    "print(err)"
   ]
  },
  {
   "cell_type": "code",
   "execution_count": null,
   "metadata": {},
   "outputs": [
    {
     "name": "stdout",
     "output_type": "stream",
     "text": [
      "31.2 ms ± 545 µs per loop (mean ± std. dev. of 7 runs, 10 loops each)\n"
     ]
    }
   ],
   "source": [
    "%timeit predict_vmap_compiled(x,W).block_until_ready()"
   ]
  },
  {
   "cell_type": "code",
   "execution_count": null,
   "metadata": {},
   "outputs": [],
   "source": []
  }
 ],
 "metadata": {
  "kernelspec": {
   "display_name": "Python 3.9.5 ('venv': venv)",
   "language": "python",
   "name": "python3"
  },
  "language_info": {
   "codemirror_mode": {
    "name": "ipython",
    "version": 3
   },
   "file_extension": ".py",
   "mimetype": "text/x-python",
   "name": "python",
   "nbconvert_exporter": "python",
   "pygments_lexer": "ipython3",
   "version": "3.10.10"
  },
  "orig_nbformat": 4,
  "vscode": {
   "interpreter": {
    "hash": "52117102878ae16c1c4b5e8e87a1ad64fac10701e1a16851a8bd870ef4e85973"
   }
  }
 },
 "nbformat": 4,
 "nbformat_minor": 2
}
